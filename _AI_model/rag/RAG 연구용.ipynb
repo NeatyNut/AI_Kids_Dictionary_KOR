{
 "cells": [
  {
   "cell_type": "code",
   "execution_count": null,
   "metadata": {},
   "outputs": [],
   "source": [
    "%pip install -U --quiet langchain-google-genai"
   ]
  },
  {
   "cell_type": "code",
   "execution_count": 69,
   "metadata": {},
   "outputs": [],
   "source": [
    "from langchain.document_loaders import PyPDFLoader\n",
    "from langchain.text_splitter import RecursiveCharacterTextSplitter\n",
    "from langchain.embeddings import HuggingFaceEmbeddings\n",
    "from langchain.vectorstores import Chroma\n",
    "from langchain_google_genai import ChatGoogleGenerativeAI\n",
    "from langchain.prompts import ChatPromptTemplate\n",
    "from langchain.schema.runnable import RunnableMap\n",
    "from google.generativeai.types.safety_types import HarmBlockThreshold, HarmCategory\n",
    "import os"
   ]
  },
  {
   "cell_type": "markdown",
   "metadata": {},
   "source": [
    "- pdf용"
   ]
  },
  {
   "cell_type": "code",
   "execution_count": 12,
   "metadata": {},
   "outputs": [],
   "source": [
    "## 1. 로더(PDF시 PDF리더, TEXT시 단순 텍스트)\n",
    "### 로더는 종류별로 각종 메타데이터(텍스트 이외의 정보 ex)페이지 번호 등)\n",
    "loader = PyPDFLoader(\"한국어 4-24 토끼전.pdf\")\n",
    "pages = loader.load_and_split() ## 페이지별로 찢기"
   ]
  },
  {
   "cell_type": "markdown",
   "metadata": {},
   "source": [
    "- 동화 종류"
   ]
  },
  {
   "cell_type": "code",
   "execution_count": 10,
   "metadata": {},
   "outputs": [
    {
     "name": "stdout",
     "output_type": "stream",
     "text": [
      "['개미와 베짱이.txt', '개와 고양이.txt', '견우와 직녀.txt', '단군 이야기.txt', '선녀와 나무꾼.txt', '소가 된 게으름뱅이.txt', '싸우기 좋아하는 아들들.txt', '엄마 게와 아기 게.txt', '여우와 신 포도.txt', '이슬 먹은 나귀.txt', '임금님 귀는 당나귀 귀.txt', '콩쥐팥쥐.txt', '토끼와 거북이.txt', '토끼전.txt', '해님과 바람.txt', '해와 달이 된 오누이.txt', '호랑이와 곶감.txt', '혹부리 영감.txt', '황금알을 낳는 거위.txt', '효녀 심청.txt', '흥부와 놀부.txt']\n",
      "개미와 베짱이.txt\n",
      "개와 고양이.txt\n",
      "견우와 직녀.txt\n",
      "단군 이야기.txt\n",
      "선녀와 나무꾼.txt\n",
      "소가 된 게으름뱅이.txt\n",
      "싸우기 좋아하는 아들들.txt\n",
      "엄마 게와 아기 게.txt\n",
      "여우와 신 포도.txt\n",
      "이슬 먹은 나귀.txt\n",
      "임금님 귀는 당나귀 귀.txt\n",
      "콩쥐팥쥐.txt\n",
      "토끼와 거북이.txt\n",
      "토끼전.txt\n",
      "해님과 바람.txt\n",
      "해와 달이 된 오누이.txt\n",
      "호랑이와 곶감.txt\n",
      "혹부리 영감.txt\n",
      "황금알을 낳는 거위.txt\n",
      "효녀 심청.txt\n",
      "흥부와 놀부.txt\n",
      "완료\n"
     ]
    }
   ],
   "source": [
    "tale_dir = os.getcwd() + \"/동화책\"\n",
    "tale_text_list = []\n",
    "\n",
    "print(os.listdir(tale_dir))\n",
    "\n",
    "for i in os.listdir(tale_dir) :    \n",
    "    print(i)\n",
    "    with open(tale_dir + \"/\" + i, 'r', encoding='UTF-8') as file:\n",
    "        # # 파일의 모든 내용을 읽어서 문자열로 반환합니다.\n",
    "        file_content = file.read()\n",
    "        tale_text_list.append(file_content)\n",
    "\n",
    "print(\"완료\")"
   ]
  },
  {
   "cell_type": "code",
   "execution_count": 11,
   "metadata": {},
   "outputs": [
    {
     "name": "stdout",
     "output_type": "stream",
     "text": [
      "420\n",
      "953\n",
      "658\n",
      "701\n",
      "842\n",
      "854\n",
      "612\n",
      "434\n",
      "415\n",
      "451\n",
      "575\n",
      "910\n",
      "604\n",
      "722\n",
      "563\n",
      "585\n",
      "593\n",
      "852\n",
      "571\n",
      "710\n",
      "778\n"
     ]
    }
   ],
   "source": [
    "## 텍스트 길이 => chunk의 필요는 없다\n",
    "for i in tale_text_list:\n",
    "    print(len(i))"
   ]
  },
  {
   "cell_type": "code",
   "execution_count": 8,
   "metadata": {},
   "outputs": [],
   "source": [
    "# ## 2. 토크나이저(필요가 없다)\n",
    "# text_splitter = RecursiveCharacterTextSplitter(separator = \"\\n\\n\", chunk_size=500, chunk_overlap=50, length_function = len) \n",
    "# texts = text_splitter.split_documents(pages)"
   ]
  },
  {
   "cell_type": "code",
   "execution_count": 33,
   "metadata": {},
   "outputs": [],
   "source": [
    "# 3. 임베딩기 선정(Open ai 또는 Hugging face)\n",
    "model_name = \"jhgan/ko-sbert-nli\" # 3. 임베딩기\n",
    "model_kwargs = {'device': 'cpu'}\n",
    "encode_kwargs = {'normalize_embeddings': True}\n",
    "hf = HuggingFaceEmbeddings(\n",
    "    model_name=model_name,\n",
    "    model_kwargs=model_kwargs,\n",
    "    encode_kwargs=encode_kwargs\n",
    ")"
   ]
  },
  {
   "cell_type": "code",
   "execution_count": 34,
   "metadata": {},
   "outputs": [],
   "source": [
    "## 4. VectorDB(Chroma)\n",
    "DB_PATH = os.getcwd() + \"/DB\"\n",
    "# docsearch = Chroma.from_texts(tale_text_list, hf, persist_directory=DB_PATH) \n",
    "\n",
    "## 4-1 DB통해 부르기\n",
    "docsearch = Chroma(persist_directory=DB_PATH, embedding_function=hf)"
   ]
  },
  {
   "cell_type": "code",
   "execution_count": 35,
   "metadata": {},
   "outputs": [
    {
     "data": {
      "text/plain": [
       "[Document(page_content='제목 : 흥부와 놀부\\n\\n옛날 어느 마을에 형 놀부와 동생 흥부가 살았어요. \\n흥부는 착한 사람이었어요. \\n그런데 놀부는 욕심이 많고 나쁜 사람이었어요. \\n어느 날 갑자기 아버지가 돌아가셨어요. \\n놀부는 아버지의 집과 돈을 혼자 다 가졌어요. \\n그리고 흥부네 가족을 내쫓았어요. \\n흥부는 가난했지만 열심히 일했어요.\\n\\n어느 봄날, 제비 한 마리가\\n흥부의 집에 날아왔어요. \\n그런데 제비의 다리가 부러져 있었어요.\\n흥부가 말했어요. \\n“저런, 내가 고쳐줄게.” \\n흥부는 제비의 다리를 고쳐 주었어요.\\n\\n다음 해 봄이 되자 제비가\\n흥부의 집에 다시 돌아왔어요. \\n그리고 흥부에게 박 씨 하나를 주었어요. \\n흥부는 박 씨를 심었어요. \\n가을이 되자 박이 주렁주렁 열렸어요. \\n\\n흥부의 가족들이 박을 잘랐어요. \\n박 속에서 착한 도깨비들이 나와서\\n큰 집과 돈을 주었어요.\\n\\n이 이야기를 들은 놀부는 샘이 났어요. \\n그래서 제비를 잡아서 다리를 부러뜨렸어요. \\n그리고 다시 고쳐 주었어요. \\n다음 해 봄에 제비가 놀부에게도\\n박 씨 하나를 주었어요.\\n\\n놀부는 박 씨 를 심었고 가을이 되자 박이 주렁주렁 열렸어요. \\n놀부의 가족들이 박을 잘랐어요.\\n\\n그런데 놀부의 박 속에서는 나쁜 도깨비들이 나왔어요.\\n\\n도깨비들은 놀부의 집과 돈을 모두 빼앗아 갔어요.\\n\\n이 이야기를 들은 흥부는 놀부를 찾아 갔어요. \\n흥부는 놀부의 가족을 자기 집으로 데리고 왔어요. \\n놀부가 흥부에게 말했어요. \\n“흥부야, 그동안 정말 미안했어.” \\n착한 흥부는 놀부를 용서해 주었어요. \\n그래서 흥부와 놀부는 사이좋게 살았어요.')]"
      ]
     },
     "execution_count": 35,
     "metadata": {},
     "output_type": "execute_result"
    }
   ],
   "source": [
    "## 5. 검색기\n",
    "retriever = docsearch.as_retriever(\n",
    "                                search_type=\"mmr\",\n",
    "                                search_kwargs={'k':1, 'fetch_k': 5}) ## k는 검색 유사도 문장 수\n",
    "retriever.get_relevant_documents(\"제목 : 흥부\") ## 이 후 chain.invoke question이 들어올 곳"
   ]
  },
  {
   "cell_type": "code",
   "execution_count": 111,
   "metadata": {},
   "outputs": [
    {
     "name": "stdout",
     "output_type": "stream",
     "text": [
      "[\n",
      "  {\n",
      "    \"question\": \"형제 중에 착한 사람은 누구였나요?\",\n",
      "    \"options\": [\"놀부\", \"흥부\"],\n",
      "    \"answer\": 1\n",
      "  },\n",
      "  {\n",
      "    \"question\": \"제비에게 무슨 일이 일어났었나요?\",\n",
      "    \"options\": [\"날개가 부러졌다\", \"다리가 부러졌다\", \"코가 부러졌다\"],\n",
      "    \"answer\": 1\n",
      "  },\n",
      "  {\n",
      "    \"question\": \"박 속에서 나온 도깨비 중에 좋은 도깨비는 누구였나요?\",\n",
      "    \"options\": [\"흥부의 도깨비\", \"놀부의 도깨비\"],\n",
      "    \"answer\": 0\n",
      "  }\n",
      "]\n"
     ]
    }
   ],
   "source": [
    "## 프롬프트\n",
    "template = \"\"\"Make three quizs for {years} years old kids and return list like '[json, json, json]'.\n",
    "\n",
    "json format:\n",
    "\"question\" : \"quiz\",\n",
    "\"options\" : [\"option1\",\"option2\",\"option3\"],\n",
    "\"answer\" : 0\n",
    "\n",
    "context:\n",
    "{context}\n",
    "\"\"\"\n",
    "\n",
    "prompt = ChatPromptTemplate.from_template(template)\n",
    "\n",
    "harm_categories = {\n",
    "    HarmCategory.HARM_CATEGORY_UNSPECIFIED: HarmBlockThreshold.BLOCK_NONE,\n",
    "    HarmCategory.HARM_CATEGORY_DANGEROUS_CONTENT: HarmBlockThreshold.BLOCK_NONE,\n",
    "    HarmCategory.HARM_CATEGORY_HATE_SPEECH: HarmBlockThreshold.BLOCK_NONE,\n",
    "    HarmCategory.HARM_CATEGORY_HARASSMENT: HarmBlockThreshold.BLOCK_NONE,\n",
    "    HarmCategory.HARM_CATEGORY_SEXUALLY_EXPLICIT: HarmBlockThreshold.BLOCK_NONE\n",
    "}\n",
    "\n",
    "\n",
    "## 6. LLM 선정\n",
    "os.environ['GOOGLE_API_KEY'] = \"\"\n",
    "gemini = ChatGoogleGenerativeAI(model=\"gemini-pro\", temperature = 1, settings=harm_categories)\n",
    "\n",
    "## RAG\n",
    "chain = RunnableMap({\n",
    "    \"context\": lambda x: retriever.get_relevant_documents(\"제목 : \" + x['topic']),\n",
    "    \"years\" : lambda x:x['years']\n",
    "}) | prompt | gemini\n",
    "\n",
    "# 견우와 직녀/바보 온달 제외\n",
    "print(chain.invoke({\"topic\": \"흥부와 놀부\", \"years\":\"6\"}).content)"
   ]
  }
 ],
 "metadata": {
  "kernelspec": {
   "display_name": "rag",
   "language": "python",
   "name": "python3"
  },
  "language_info": {
   "codemirror_mode": {
    "name": "ipython",
    "version": 3
   },
   "file_extension": ".py",
   "mimetype": "text/x-python",
   "name": "python",
   "nbconvert_exporter": "python",
   "pygments_lexer": "ipython3",
   "version": "3.11.5"
  }
 },
 "nbformat": 4,
 "nbformat_minor": 2
}
