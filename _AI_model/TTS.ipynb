{
 "cells": [
  {
   "cell_type": "code",
   "execution_count": 4,
   "metadata": {},
   "outputs": [
    {
     "name": "stdout",
     "output_type": "stream",
     "text": [
      "TTS mp3 저장\n"
     ]
    }
   ],
   "source": [
    "import os\n",
    "import sys\n",
    "import urllib.request\n",
    "# text = \"\"\"\n",
    "# 옛날옛적, 어느 마을에 아주 사이좋은 형제가 살고 있었어요.\n",
    "\n",
    "# 형은 결혼하여 가족들과 살고 있었고 동생은 어머니를 모시고 있었지요, 두 형제는 매일 들에 나가 열심히 일을 했어요.\n",
    "\n",
    "# 가을이 되자, 논에는 누련 벼가 금빛으로 출렁거렸어요.\n",
    "\n",
    "# 형제는 즐거운 마음으로 추수를 하였지요.\n",
    "\n",
    "# 그리고는 쌀을 나누었어요.\n",
    "# \"\"\"\n",
    "\n",
    "text = \"오늘도 함께 공부해보자~!\"\n",
    "\n",
    "client_id = \"\"\n",
    "client_secret = \"\"\n",
    "encText = urllib.parse.quote(text)\n",
    "data = \"speaker=nara&volume=0&speed=1&pitch=0&format=mp3&text=\" + encText\n",
    "url = \"https://naveropenapi.apigw.ntruss.com/tts-premium/v1/tts\"\n",
    "request = urllib.request.Request(url)\n",
    "request.add_header(\"X-NCP-APIGW-API-KEY-ID\",client_id)\n",
    "request.add_header(\"X-NCP-APIGW-API-KEY\",client_secret)\n",
    "response = urllib.request.urlopen(request, data=data.encode('utf-8'))\n",
    "rescode = response.getcode()\n",
    "if(rescode==200):\n",
    "    print(\"TTS mp3 저장\")\n",
    "    response_body = response.read()\n",
    "    with open('1111.mp3', 'wb') as f:\n",
    "        f.write(response_body)\n",
    "else:\n",
    "    print(\"Error Code:\" + rescode)"
   ]
  },
  {
   "cell_type": "code",
   "execution_count": 2,
   "metadata": {},
   "outputs": [
    {
     "data": {
      "text/plain": [
       "b'speaker=nmammon&volume=0&speed=1&pitch=0&format=mp3&text=%EC%98%A4%EB%8A%98%EB%8F%84%20%ED%95%A8%EA%BB%98%20%EA%B3%B5%EB%B6%80%ED%95%B4%EB%B3%B4%EC%9E%90~%21'"
      ]
     },
     "execution_count": 2,
     "metadata": {},
     "output_type": "execute_result"
    }
   ],
   "source": [
    "data.encode('utf-8')"
   ]
  },
  {
   "cell_type": "code",
   "execution_count": 1,
   "metadata": {},
   "outputs": [
    {
     "name": "stdout",
     "output_type": "stream",
     "text": [
      "{\"result\": {\"speak_url\": \"https://typecast.ai/api/speak/66068491dac700773559e93e\", \"speak_v2_url\": \"https://typecast.ai/api/speak/v2/66068491dac700773559e93e\", \"play_id\": \"\"}}\n",
      "\n"
     ]
    }
   ],
   "source": [
    "import requests \n",
    "import json\n",
    "\n",
    "url = \"https://typecast.ai/api/speak\"\n",
    "\n",
    "payload = json.dumps({\n",
    "    \"actor_id\": \"622964d6255364be41659078\",\n",
    "    \"text\": \"안녕 반가워 이 친구야. 오늘은 졸려\",\n",
    "    \"lang\": \"auto\",\n",
    "    \"tempo\": 1,\n",
    "    \"volume\": 100,\n",
    "    \"pitch\": 0,\n",
    "    \"xapi_hd\": True,\n",
    "    \"max_seconds\": 60,\n",
    "    \"model_version\": \"latest\",\n",
    "    \"xapi_audio_format\": \"mp3\",\n",
    "    \"emotion_prompt\": \"soft\"\n",
    "})\n",
    "headers = {\n",
    "    'Content-Type': 'application/json',\n",
    "    'Authorization': ''\n",
    "}\n",
    "\n",
    "response = requests.request(\"POST\", url, headers=headers, data=payload)\n",
    "\n",
    "print(response.text)"
   ]
  },
  {
   "cell_type": "code",
   "execution_count": 2,
   "metadata": {},
   "outputs": [],
   "source": [
    "res = requests.request(\"get\", json.loads(response.text)['result']['speak_v2_url'], headers=headers)"
   ]
  },
  {
   "cell_type": "code",
   "execution_count": 3,
   "metadata": {},
   "outputs": [
    {
     "data": {
      "text/plain": [
       "b'{\"result\": {\"_id\": \"66068491dac700773559e93e\", \"status\": \"done\", \"audio_download_url\": \"https://cdn.typecast.ai/data/s/2024/3/29/light-speakcore-worker-fdc49d77b-zz9v5/5da32349-a3e9-45de-8595-31c412fd8d11.mp3?Expires=1711789596&Signature=VI5qYsWqQbHZ7AkPeq4hHWDBWuz0tUT1oZk3hti2ocCHU5KVfnyuzoyb7~05nr98IVyO6B16nhrUV3NzZGpIMA8raRRNoFLBg2fqU13wy4ASfPCn8ia-qZhfFFUC0E1K3PoP6j2VpDIlDluehSaKqr0Ywx5t3d2HWq0SUvrc9Xa7Hjk8KXp9tGj3AfFM0odZY48BYxzwyOX8b7SKzveyayrEc-GtmbrGZCsO01Eagx-CHepEjQs0~kUbc9MeX9IbdSmscmboxz3US2DPZzohBfgGRX5-yC14RxHVLZpAgASTDmdIO2qS5qI0q6hX-BlomBSzbFvdJPsWXKa-il1~tg__&Key-Pair-Id=K11PO7SMLJYOIE\", \"speak_v2_url\": null, \"callback\": {\"status\": \"none\", \"play_id\": {\"$oid\": null, \"created_date\": null}, \"error_msg\": null}, \"text_count\": 14, \"duration\": 2.56}}\\n'"
      ]
     },
     "execution_count": 3,
     "metadata": {},
     "output_type": "execute_result"
    }
   ],
   "source": [
    "res.content"
   ]
  },
  {
   "cell_type": "markdown",
   "metadata": {},
   "source": []
  },
  {
   "cell_type": "code",
   "execution_count": null,
   "metadata": {},
   "outputs": [],
   "source": []
  }
 ],
 "metadata": {
  "kernelspec": {
   "display_name": "rag",
   "language": "python",
   "name": "python3"
  },
  "language_info": {
   "codemirror_mode": {
    "name": "ipython",
    "version": 3
   },
   "file_extension": ".py",
   "mimetype": "text/x-python",
   "name": "python",
   "nbconvert_exporter": "python",
   "pygments_lexer": "ipython3",
   "version": "3.11.5"
  }
 },
 "nbformat": 4,
 "nbformat_minor": 2
}
